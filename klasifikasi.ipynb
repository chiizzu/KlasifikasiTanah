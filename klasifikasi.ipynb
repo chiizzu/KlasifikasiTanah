{
 "cells": [
  {
   "cell_type": "code",
   "execution_count": null,
   "id": "794b07e8",
   "metadata": {},
   "outputs": [],
   "source": [
    "#import semua library\n",
    "import pandas as pd\n",
    "import numpy as np\n",
    "import matplotlib.pyplot as plt\n",
    "from sklearn.preprocessing import MinMaxScaler\n",
    "from sklearn.ensemble import RandomForestClassifier\n",
    "from sklearn.tree import DecisionTreeClassifier\n",
    "from sklearn.metrics import classification_report\n",
    "from sklearn.model_selection import train_test_split\n",
    "from sklearn.metrics import accuracy_score\n",
    "from sklearn.preprocessing import LabelEncoder\n",
    "import tensorflow as tf\n",
    "from tensorflow.keras.models import Model\n",
    "from tensorflow.keras.layers import Dense, Input\n",
    "from tensorflow.keras.utils import to_categorical\n",
    "import joblib"
   ]
  },
  {
   "cell_type": "code",
   "execution_count": 5,
   "id": "39e034ff",
   "metadata": {},
   "outputs": [],
   "source": [
    "#impor data  dummy\n",
    "path = (\"./data/Data_Sensor_NPK_Dummy_Last.csv\")\n",
    "\n",
    "df = pd.read_csv(path)"
   ]
  },
  {
   "cell_type": "markdown",
   "id": "2fb3021b",
   "metadata": {},
   "source": [
    "# **Preprocessing**"
   ]
  },
  {
   "cell_type": "code",
   "execution_count": 6,
   "id": "4f73d0b2",
   "metadata": {},
   "outputs": [
    {
     "data": {
      "text/html": [
       "<div>\n",
       "<style scoped>\n",
       "    .dataframe tbody tr th:only-of-type {\n",
       "        vertical-align: middle;\n",
       "    }\n",
       "\n",
       "    .dataframe tbody tr th {\n",
       "        vertical-align: top;\n",
       "    }\n",
       "\n",
       "    .dataframe thead th {\n",
       "        text-align: right;\n",
       "    }\n",
       "</style>\n",
       "<table border=\"1\" class=\"dataframe\">\n",
       "  <thead>\n",
       "    <tr style=\"text-align: right;\">\n",
       "      <th></th>\n",
       "      <th>Nitrogen (mg/kg)</th>\n",
       "      <th>Fosfor (mg/kg)</th>\n",
       "      <th>Kalium (mg/kg)</th>\n",
       "      <th>pH</th>\n",
       "      <th>Kelembapan (%)</th>\n",
       "      <th>Suhu (°C)</th>\n",
       "      <th>EC (dS/m)</th>\n",
       "      <th>Salinitas (ppt)</th>\n",
       "      <th>TDS (ppm)</th>\n",
       "      <th>Kondisi Tanah</th>\n",
       "      <th>Rekomendasi Tindakan</th>\n",
       "    </tr>\n",
       "  </thead>\n",
       "  <tbody>\n",
       "    <tr>\n",
       "      <th>0</th>\n",
       "      <td>336</td>\n",
       "      <td>197</td>\n",
       "      <td>3533</td>\n",
       "      <td>6.35</td>\n",
       "      <td>64.64</td>\n",
       "      <td>32.11</td>\n",
       "      <td>0.34</td>\n",
       "      <td>139.65</td>\n",
       "      <td>1192.41</td>\n",
       "      <td>Baik</td>\n",
       "      <td>tambahkan pupuk banyak, cukup air</td>\n",
       "    </tr>\n",
       "    <tr>\n",
       "      <th>1</th>\n",
       "      <td>669</td>\n",
       "      <td>326</td>\n",
       "      <td>2904</td>\n",
       "      <td>6.46</td>\n",
       "      <td>53.48</td>\n",
       "      <td>21.64</td>\n",
       "      <td>1.87</td>\n",
       "      <td>329.43</td>\n",
       "      <td>1678.81</td>\n",
       "      <td>Baik</td>\n",
       "      <td>tambahkan pupuk sedang, cukup air</td>\n",
       "    </tr>\n",
       "    <tr>\n",
       "      <th>2</th>\n",
       "      <td>504</td>\n",
       "      <td>265</td>\n",
       "      <td>3092</td>\n",
       "      <td>6.07</td>\n",
       "      <td>57.22</td>\n",
       "      <td>25.96</td>\n",
       "      <td>1.25</td>\n",
       "      <td>155.13</td>\n",
       "      <td>3378.71</td>\n",
       "      <td>Baik</td>\n",
       "      <td>tambahkan pupuk sedang, cukup air</td>\n",
       "    </tr>\n",
       "    <tr>\n",
       "      <th>3</th>\n",
       "      <td>340</td>\n",
       "      <td>152</td>\n",
       "      <td>2735</td>\n",
       "      <td>6.01</td>\n",
       "      <td>62.75</td>\n",
       "      <td>25.05</td>\n",
       "      <td>1.35</td>\n",
       "      <td>275.16</td>\n",
       "      <td>3413.19</td>\n",
       "      <td>Baik</td>\n",
       "      <td>tambahkan pupuk banyak, cukup air</td>\n",
       "    </tr>\n",
       "    <tr>\n",
       "      <th>4</th>\n",
       "      <td>305</td>\n",
       "      <td>174</td>\n",
       "      <td>1840</td>\n",
       "      <td>5.59</td>\n",
       "      <td>51.41</td>\n",
       "      <td>28.54</td>\n",
       "      <td>0.86</td>\n",
       "      <td>234.81</td>\n",
       "      <td>1621.25</td>\n",
       "      <td>Baik</td>\n",
       "      <td>tambahkan pupuk banyak, cukup air</td>\n",
       "    </tr>\n",
       "  </tbody>\n",
       "</table>\n",
       "</div>"
      ],
      "text/plain": [
       "   Nitrogen (mg/kg)  Fosfor (mg/kg)  Kalium (mg/kg)    pH  Kelembapan (%)  \\\n",
       "0               336             197            3533  6.35           64.64   \n",
       "1               669             326            2904  6.46           53.48   \n",
       "2               504             265            3092  6.07           57.22   \n",
       "3               340             152            2735  6.01           62.75   \n",
       "4               305             174            1840  5.59           51.41   \n",
       "\n",
       "   Suhu (°C)  EC (dS/m)  Salinitas (ppt)  TDS (ppm) Kondisi Tanah  \\\n",
       "0      32.11       0.34           139.65    1192.41          Baik   \n",
       "1      21.64       1.87           329.43    1678.81          Baik   \n",
       "2      25.96       1.25           155.13    3378.71          Baik   \n",
       "3      25.05       1.35           275.16    3413.19          Baik   \n",
       "4      28.54       0.86           234.81    1621.25          Baik   \n",
       "\n",
       "                Rekomendasi Tindakan  \n",
       "0  tambahkan pupuk banyak, cukup air  \n",
       "1  tambahkan pupuk sedang, cukup air  \n",
       "2  tambahkan pupuk sedang, cukup air  \n",
       "3  tambahkan pupuk banyak, cukup air  \n",
       "4  tambahkan pupuk banyak, cukup air  "
      ]
     },
     "execution_count": 6,
     "metadata": {},
     "output_type": "execute_result"
    }
   ],
   "source": [
    "df.head(5)"
   ]
  },
  {
   "cell_type": "code",
   "execution_count": 7,
   "id": "84f940cb",
   "metadata": {},
   "outputs": [
    {
     "name": "stdout",
     "output_type": "stream",
     "text": [
      "<class 'pandas.core.frame.DataFrame'>\n",
      "RangeIndex: 10000 entries, 0 to 9999\n",
      "Data columns (total 11 columns):\n",
      " #   Column                Non-Null Count  Dtype  \n",
      "---  ------                --------------  -----  \n",
      " 0   Nitrogen (mg/kg)      10000 non-null  int64  \n",
      " 1   Fosfor (mg/kg)        10000 non-null  int64  \n",
      " 2   Kalium (mg/kg)        10000 non-null  int64  \n",
      " 3   pH                    10000 non-null  float64\n",
      " 4   Kelembapan (%)        10000 non-null  float64\n",
      " 5   Suhu (°C)             10000 non-null  float64\n",
      " 6   EC (dS/m)             10000 non-null  float64\n",
      " 7   Salinitas (ppt)       10000 non-null  float64\n",
      " 8   TDS (ppm)             10000 non-null  float64\n",
      " 9   Kondisi Tanah         10000 non-null  object \n",
      " 10  Rekomendasi Tindakan  10000 non-null  object \n",
      "dtypes: float64(6), int64(3), object(2)\n",
      "memory usage: 859.5+ KB\n"
     ]
    }
   ],
   "source": [
    "df.info()"
   ]
  },
  {
   "cell_type": "code",
   "execution_count": 8,
   "id": "eb619b9b",
   "metadata": {},
   "outputs": [
    {
     "data": {
      "text/plain": [
       "Nitrogen (mg/kg)        0\n",
       "Fosfor (mg/kg)          0\n",
       "Kalium (mg/kg)          0\n",
       "pH                      0\n",
       "Kelembapan (%)          0\n",
       "Suhu (°C)               0\n",
       "EC (dS/m)               0\n",
       "Salinitas (ppt)         0\n",
       "TDS (ppm)               0\n",
       "Kondisi Tanah           0\n",
       "Rekomendasi Tindakan    0\n",
       "dtype: int64"
      ]
     },
     "execution_count": 8,
     "metadata": {},
     "output_type": "execute_result"
    }
   ],
   "source": [
    "#cek apakah ada data yang null\n",
    "df.isnull().sum()"
   ]
  },
  {
   "cell_type": "code",
   "execution_count": 9,
   "id": "1401849e",
   "metadata": {},
   "outputs": [
    {
     "data": {
      "text/plain": [
       "4513"
      ]
     },
     "execution_count": 9,
     "metadata": {},
     "output_type": "execute_result"
    }
   ],
   "source": [
    "df.duplicated().sum()"
   ]
  },
  {
   "cell_type": "code",
   "execution_count": 10,
   "id": "73f9bf2a",
   "metadata": {},
   "outputs": [],
   "source": [
    "df_clean = df.drop_duplicates()"
   ]
  },
  {
   "cell_type": "code",
   "execution_count": 11,
   "id": "181f932b",
   "metadata": {},
   "outputs": [
    {
     "data": {
      "text/html": [
       "<div>\n",
       "<style scoped>\n",
       "    .dataframe tbody tr th:only-of-type {\n",
       "        vertical-align: middle;\n",
       "    }\n",
       "\n",
       "    .dataframe tbody tr th {\n",
       "        vertical-align: top;\n",
       "    }\n",
       "\n",
       "    .dataframe thead th {\n",
       "        text-align: right;\n",
       "    }\n",
       "</style>\n",
       "<table border=\"1\" class=\"dataframe\">\n",
       "  <thead>\n",
       "    <tr style=\"text-align: right;\">\n",
       "      <th></th>\n",
       "      <th>Nitrogen (mg/kg)</th>\n",
       "      <th>Fosfor (mg/kg)</th>\n",
       "      <th>Kalium (mg/kg)</th>\n",
       "      <th>pH</th>\n",
       "      <th>Kelembapan (%)</th>\n",
       "      <th>Suhu (°C)</th>\n",
       "      <th>EC (dS/m)</th>\n",
       "      <th>Salinitas (ppt)</th>\n",
       "      <th>TDS (ppm)</th>\n",
       "    </tr>\n",
       "  </thead>\n",
       "  <tbody>\n",
       "    <tr>\n",
       "      <th>count</th>\n",
       "      <td>5487.000000</td>\n",
       "      <td>5487.000000</td>\n",
       "      <td>5487.000000</td>\n",
       "      <td>5487.000000</td>\n",
       "      <td>5487.000000</td>\n",
       "      <td>5487.000000</td>\n",
       "      <td>5487.000000</td>\n",
       "      <td>5487.000000</td>\n",
       "      <td>5487.000000</td>\n",
       "    </tr>\n",
       "    <tr>\n",
       "      <th>mean</th>\n",
       "      <td>780.769273</td>\n",
       "      <td>788.563149</td>\n",
       "      <td>1513.487516</td>\n",
       "      <td>6.356734</td>\n",
       "      <td>44.298495</td>\n",
       "      <td>29.226098</td>\n",
       "      <td>3.716665</td>\n",
       "      <td>429.756269</td>\n",
       "      <td>2997.352983</td>\n",
       "    </tr>\n",
       "    <tr>\n",
       "      <th>std</th>\n",
       "      <td>384.561411</td>\n",
       "      <td>586.043270</td>\n",
       "      <td>900.626112</td>\n",
       "      <td>1.014778</td>\n",
       "      <td>19.424820</td>\n",
       "      <td>7.579413</td>\n",
       "      <td>3.039758</td>\n",
       "      <td>264.677617</td>\n",
       "      <td>1433.529415</td>\n",
       "    </tr>\n",
       "    <tr>\n",
       "      <th>min</th>\n",
       "      <td>200.000000</td>\n",
       "      <td>100.000000</td>\n",
       "      <td>100.000000</td>\n",
       "      <td>4.500000</td>\n",
       "      <td>10.010000</td>\n",
       "      <td>15.000000</td>\n",
       "      <td>0.050000</td>\n",
       "      <td>50.570000</td>\n",
       "      <td>500.610000</td>\n",
       "    </tr>\n",
       "    <tr>\n",
       "      <th>25%</th>\n",
       "      <td>461.000000</td>\n",
       "      <td>271.000000</td>\n",
       "      <td>817.000000</td>\n",
       "      <td>5.680000</td>\n",
       "      <td>24.895000</td>\n",
       "      <td>23.320000</td>\n",
       "      <td>1.120000</td>\n",
       "      <td>214.340000</td>\n",
       "      <td>1799.655000</td>\n",
       "    </tr>\n",
       "    <tr>\n",
       "      <th>50%</th>\n",
       "      <td>717.000000</td>\n",
       "      <td>587.000000</td>\n",
       "      <td>1432.000000</td>\n",
       "      <td>6.170000</td>\n",
       "      <td>50.920000</td>\n",
       "      <td>28.780000</td>\n",
       "      <td>2.490000</td>\n",
       "      <td>326.760000</td>\n",
       "      <td>2897.780000</td>\n",
       "    </tr>\n",
       "    <tr>\n",
       "      <th>75%</th>\n",
       "      <td>1077.000000</td>\n",
       "      <td>1296.000000</td>\n",
       "      <td>1932.000000</td>\n",
       "      <td>7.000000</td>\n",
       "      <td>60.870000</td>\n",
       "      <td>34.430000</td>\n",
       "      <td>6.350000</td>\n",
       "      <td>642.945000</td>\n",
       "      <td>3971.530000</td>\n",
       "    </tr>\n",
       "    <tr>\n",
       "      <th>max</th>\n",
       "      <td>1600.000000</td>\n",
       "      <td>2000.000000</td>\n",
       "      <td>3772.000000</td>\n",
       "      <td>9.000000</td>\n",
       "      <td>74.990000</td>\n",
       "      <td>45.000000</td>\n",
       "      <td>9.990000</td>\n",
       "      <td>999.480000</td>\n",
       "      <td>5997.790000</td>\n",
       "    </tr>\n",
       "  </tbody>\n",
       "</table>\n",
       "</div>"
      ],
      "text/plain": [
       "       Nitrogen (mg/kg)  Fosfor (mg/kg)  Kalium (mg/kg)           pH  \\\n",
       "count       5487.000000     5487.000000     5487.000000  5487.000000   \n",
       "mean         780.769273      788.563149     1513.487516     6.356734   \n",
       "std          384.561411      586.043270      900.626112     1.014778   \n",
       "min          200.000000      100.000000      100.000000     4.500000   \n",
       "25%          461.000000      271.000000      817.000000     5.680000   \n",
       "50%          717.000000      587.000000     1432.000000     6.170000   \n",
       "75%         1077.000000     1296.000000     1932.000000     7.000000   \n",
       "max         1600.000000     2000.000000     3772.000000     9.000000   \n",
       "\n",
       "       Kelembapan (%)    Suhu (°C)    EC (dS/m)  Salinitas (ppt)    TDS (ppm)  \n",
       "count     5487.000000  5487.000000  5487.000000      5487.000000  5487.000000  \n",
       "mean        44.298495    29.226098     3.716665       429.756269  2997.352983  \n",
       "std         19.424820     7.579413     3.039758       264.677617  1433.529415  \n",
       "min         10.010000    15.000000     0.050000        50.570000   500.610000  \n",
       "25%         24.895000    23.320000     1.120000       214.340000  1799.655000  \n",
       "50%         50.920000    28.780000     2.490000       326.760000  2897.780000  \n",
       "75%         60.870000    34.430000     6.350000       642.945000  3971.530000  \n",
       "max         74.990000    45.000000     9.990000       999.480000  5997.790000  "
      ]
     },
     "execution_count": 11,
     "metadata": {},
     "output_type": "execute_result"
    }
   ],
   "source": [
    "df_clean.describe()"
   ]
  },
  {
   "cell_type": "code",
   "execution_count": 12,
   "id": "51124f8d",
   "metadata": {},
   "outputs": [
    {
     "name": "stdout",
     "output_type": "stream",
     "text": [
      "<class 'pandas.core.frame.DataFrame'>\n",
      "Index: 5487 entries, 0 to 9957\n",
      "Data columns (total 11 columns):\n",
      " #   Column                Non-Null Count  Dtype  \n",
      "---  ------                --------------  -----  \n",
      " 0   Nitrogen (mg/kg)      5487 non-null   int64  \n",
      " 1   Fosfor (mg/kg)        5487 non-null   int64  \n",
      " 2   Kalium (mg/kg)        5487 non-null   int64  \n",
      " 3   pH                    5487 non-null   float64\n",
      " 4   Kelembapan (%)        5487 non-null   float64\n",
      " 5   Suhu (°C)             5487 non-null   float64\n",
      " 6   EC (dS/m)             5487 non-null   float64\n",
      " 7   Salinitas (ppt)       5487 non-null   float64\n",
      " 8   TDS (ppm)             5487 non-null   float64\n",
      " 9   Kondisi Tanah         5487 non-null   object \n",
      " 10  Rekomendasi Tindakan  5487 non-null   object \n",
      "dtypes: float64(6), int64(3), object(2)\n",
      "memory usage: 514.4+ KB\n"
     ]
    }
   ],
   "source": [
    "df_clean.info()"
   ]
  },
  {
   "cell_type": "code",
   "execution_count": 13,
   "id": "d690d6de",
   "metadata": {},
   "outputs": [
    {
     "data": {
      "text/plain": [
       "array(['Baik', 'Buruk', 'Cukup'], dtype=object)"
      ]
     },
     "execution_count": 13,
     "metadata": {},
     "output_type": "execute_result"
    }
   ],
   "source": [
    "#encode rekomendasi pupuk\n",
    "le_pupuk = LabelEncoder()\n",
    "df['kondisi_encode'] = le_pupuk.fit_transform(df['Kondisi Tanah'])\n",
    "le_pupuk.classes_\n",
    "#joblib.dump(le_pupuk, \"le_kondisi.pkl\")"
   ]
  },
  {
   "cell_type": "code",
   "execution_count": 14,
   "id": "4875b7a4",
   "metadata": {},
   "outputs": [
    {
     "data": {
      "text/plain": [
       "array(['tambahkan pupuk banyak, cukup air',\n",
       "       'tambahkan pupuk banyak, tambahkan air',\n",
       "       'tambahkan pupuk dikit, cukup air',\n",
       "       'tambahkan pupuk dikit, tambahkan air',\n",
       "       'tambahkan pupuk sedang, cukup air',\n",
       "       'tambahkan pupuk sedang, tambahkan air'], dtype=object)"
      ]
     },
     "execution_count": 14,
     "metadata": {},
     "output_type": "execute_result"
    }
   ],
   "source": [
    "#encode rekomendasi air\n",
    "le_rekom = LabelEncoder()\n",
    "df['Rekomendasi Encode'] = le_rekom.fit_transform(df['Rekomendasi Tindakan'])\n",
    "\n",
    "le_rekom.classes_\n",
    "#joblib.dump(le_rekom, \"le_rekomendasi.pkl\")"
   ]
  },
  {
   "cell_type": "code",
   "execution_count": 15,
   "id": "a49cf883",
   "metadata": {},
   "outputs": [
    {
     "data": {
      "text/html": [
       "<div>\n",
       "<style scoped>\n",
       "    .dataframe tbody tr th:only-of-type {\n",
       "        vertical-align: middle;\n",
       "    }\n",
       "\n",
       "    .dataframe tbody tr th {\n",
       "        vertical-align: top;\n",
       "    }\n",
       "\n",
       "    .dataframe thead th {\n",
       "        text-align: right;\n",
       "    }\n",
       "</style>\n",
       "<table border=\"1\" class=\"dataframe\">\n",
       "  <thead>\n",
       "    <tr style=\"text-align: right;\">\n",
       "      <th></th>\n",
       "      <th>Nitrogen (mg/kg)</th>\n",
       "      <th>Fosfor (mg/kg)</th>\n",
       "      <th>Kalium (mg/kg)</th>\n",
       "      <th>pH</th>\n",
       "      <th>Kelembapan (%)</th>\n",
       "      <th>Suhu (°C)</th>\n",
       "      <th>EC (dS/m)</th>\n",
       "      <th>Salinitas (ppt)</th>\n",
       "      <th>TDS (ppm)</th>\n",
       "      <th>Kondisi Tanah</th>\n",
       "      <th>Rekomendasi Tindakan</th>\n",
       "      <th>kondisi_encode</th>\n",
       "      <th>Rekomendasi Encode</th>\n",
       "    </tr>\n",
       "  </thead>\n",
       "  <tbody>\n",
       "    <tr>\n",
       "      <th>0</th>\n",
       "      <td>336</td>\n",
       "      <td>197</td>\n",
       "      <td>3533</td>\n",
       "      <td>6.35</td>\n",
       "      <td>64.64</td>\n",
       "      <td>32.11</td>\n",
       "      <td>0.34</td>\n",
       "      <td>139.65</td>\n",
       "      <td>1192.41</td>\n",
       "      <td>Baik</td>\n",
       "      <td>tambahkan pupuk banyak, cukup air</td>\n",
       "      <td>0</td>\n",
       "      <td>0</td>\n",
       "    </tr>\n",
       "    <tr>\n",
       "      <th>1</th>\n",
       "      <td>669</td>\n",
       "      <td>326</td>\n",
       "      <td>2904</td>\n",
       "      <td>6.46</td>\n",
       "      <td>53.48</td>\n",
       "      <td>21.64</td>\n",
       "      <td>1.87</td>\n",
       "      <td>329.43</td>\n",
       "      <td>1678.81</td>\n",
       "      <td>Baik</td>\n",
       "      <td>tambahkan pupuk sedang, cukup air</td>\n",
       "      <td>0</td>\n",
       "      <td>4</td>\n",
       "    </tr>\n",
       "    <tr>\n",
       "      <th>2</th>\n",
       "      <td>504</td>\n",
       "      <td>265</td>\n",
       "      <td>3092</td>\n",
       "      <td>6.07</td>\n",
       "      <td>57.22</td>\n",
       "      <td>25.96</td>\n",
       "      <td>1.25</td>\n",
       "      <td>155.13</td>\n",
       "      <td>3378.71</td>\n",
       "      <td>Baik</td>\n",
       "      <td>tambahkan pupuk sedang, cukup air</td>\n",
       "      <td>0</td>\n",
       "      <td>4</td>\n",
       "    </tr>\n",
       "    <tr>\n",
       "      <th>3</th>\n",
       "      <td>340</td>\n",
       "      <td>152</td>\n",
       "      <td>2735</td>\n",
       "      <td>6.01</td>\n",
       "      <td>62.75</td>\n",
       "      <td>25.05</td>\n",
       "      <td>1.35</td>\n",
       "      <td>275.16</td>\n",
       "      <td>3413.19</td>\n",
       "      <td>Baik</td>\n",
       "      <td>tambahkan pupuk banyak, cukup air</td>\n",
       "      <td>0</td>\n",
       "      <td>0</td>\n",
       "    </tr>\n",
       "    <tr>\n",
       "      <th>4</th>\n",
       "      <td>305</td>\n",
       "      <td>174</td>\n",
       "      <td>1840</td>\n",
       "      <td>5.59</td>\n",
       "      <td>51.41</td>\n",
       "      <td>28.54</td>\n",
       "      <td>0.86</td>\n",
       "      <td>234.81</td>\n",
       "      <td>1621.25</td>\n",
       "      <td>Baik</td>\n",
       "      <td>tambahkan pupuk banyak, cukup air</td>\n",
       "      <td>0</td>\n",
       "      <td>0</td>\n",
       "    </tr>\n",
       "  </tbody>\n",
       "</table>\n",
       "</div>"
      ],
      "text/plain": [
       "   Nitrogen (mg/kg)  Fosfor (mg/kg)  Kalium (mg/kg)    pH  Kelembapan (%)  \\\n",
       "0               336             197            3533  6.35           64.64   \n",
       "1               669             326            2904  6.46           53.48   \n",
       "2               504             265            3092  6.07           57.22   \n",
       "3               340             152            2735  6.01           62.75   \n",
       "4               305             174            1840  5.59           51.41   \n",
       "\n",
       "   Suhu (°C)  EC (dS/m)  Salinitas (ppt)  TDS (ppm) Kondisi Tanah  \\\n",
       "0      32.11       0.34           139.65    1192.41          Baik   \n",
       "1      21.64       1.87           329.43    1678.81          Baik   \n",
       "2      25.96       1.25           155.13    3378.71          Baik   \n",
       "3      25.05       1.35           275.16    3413.19          Baik   \n",
       "4      28.54       0.86           234.81    1621.25          Baik   \n",
       "\n",
       "                Rekomendasi Tindakan  kondisi_encode  Rekomendasi Encode  \n",
       "0  tambahkan pupuk banyak, cukup air               0                   0  \n",
       "1  tambahkan pupuk sedang, cukup air               0                   4  \n",
       "2  tambahkan pupuk sedang, cukup air               0                   4  \n",
       "3  tambahkan pupuk banyak, cukup air               0                   0  \n",
       "4  tambahkan pupuk banyak, cukup air               0                   0  "
      ]
     },
     "execution_count": 15,
     "metadata": {},
     "output_type": "execute_result"
    }
   ],
   "source": [
    "df.head()"
   ]
  },
  {
   "cell_type": "code",
   "execution_count": 16,
   "id": "84208618",
   "metadata": {},
   "outputs": [],
   "source": [
    "#normalisasi data\n",
    "minmax_scaler = MinMaxScaler()\n",
    "X = df[['Nitrogen (mg/kg)', 'Fosfor (mg/kg)', 'Kalium (mg/kg)', 'pH', 'Kelembapan (%)', 'Suhu (°C)','EC (dS/m)', 'Salinitas (ppt)', 'TDS (ppm)']]\n",
    "y = df[['kondisi_encode', 'Rekomendasi Encode']]\n",
    "\n",
    "X = minmax_scaler.fit_transform(X)\n",
    "\n",
    "#joblib.dump(minmax_scaler, \"scaler.pkl\")\n"
   ]
  },
  {
   "cell_type": "markdown",
   "id": "05d66036",
   "metadata": {},
   "source": [
    "# **Pembuatan Model Random Forest**"
   ]
  },
  {
   "cell_type": "code",
   "execution_count": 17,
   "id": "70a07097",
   "metadata": {},
   "outputs": [
    {
     "data": {
      "text/html": [
       "<div>\n",
       "<style scoped>\n",
       "    .dataframe tbody tr th:only-of-type {\n",
       "        vertical-align: middle;\n",
       "    }\n",
       "\n",
       "    .dataframe tbody tr th {\n",
       "        vertical-align: top;\n",
       "    }\n",
       "\n",
       "    .dataframe thead th {\n",
       "        text-align: right;\n",
       "    }\n",
       "</style>\n",
       "<table border=\"1\" class=\"dataframe\">\n",
       "  <thead>\n",
       "    <tr style=\"text-align: right;\">\n",
       "      <th></th>\n",
       "      <th>kondisi_encode</th>\n",
       "      <th>Rekomendasi Encode</th>\n",
       "    </tr>\n",
       "  </thead>\n",
       "  <tbody>\n",
       "    <tr>\n",
       "      <th>1309</th>\n",
       "      <td>0</td>\n",
       "      <td>4</td>\n",
       "    </tr>\n",
       "    <tr>\n",
       "      <th>8016</th>\n",
       "      <td>2</td>\n",
       "      <td>3</td>\n",
       "    </tr>\n",
       "    <tr>\n",
       "      <th>2795</th>\n",
       "      <td>2</td>\n",
       "      <td>3</td>\n",
       "    </tr>\n",
       "    <tr>\n",
       "      <th>9227</th>\n",
       "      <td>1</td>\n",
       "      <td>1</td>\n",
       "    </tr>\n",
       "    <tr>\n",
       "      <th>7094</th>\n",
       "      <td>2</td>\n",
       "      <td>0</td>\n",
       "    </tr>\n",
       "    <tr>\n",
       "      <th>...</th>\n",
       "      <td>...</td>\n",
       "      <td>...</td>\n",
       "    </tr>\n",
       "    <tr>\n",
       "      <th>7839</th>\n",
       "      <td>2</td>\n",
       "      <td>3</td>\n",
       "    </tr>\n",
       "    <tr>\n",
       "      <th>3603</th>\n",
       "      <td>1</td>\n",
       "      <td>3</td>\n",
       "    </tr>\n",
       "    <tr>\n",
       "      <th>5959</th>\n",
       "      <td>2</td>\n",
       "      <td>0</td>\n",
       "    </tr>\n",
       "    <tr>\n",
       "      <th>5426</th>\n",
       "      <td>0</td>\n",
       "      <td>4</td>\n",
       "    </tr>\n",
       "    <tr>\n",
       "      <th>7608</th>\n",
       "      <td>2</td>\n",
       "      <td>0</td>\n",
       "    </tr>\n",
       "  </tbody>\n",
       "</table>\n",
       "<p>7000 rows × 2 columns</p>\n",
       "</div>"
      ],
      "text/plain": [
       "      kondisi_encode  Rekomendasi Encode\n",
       "1309               0                   4\n",
       "8016               2                   3\n",
       "2795               2                   3\n",
       "9227               1                   1\n",
       "7094               2                   0\n",
       "...              ...                 ...\n",
       "7839               2                   3\n",
       "3603               1                   3\n",
       "5959               2                   0\n",
       "5426               0                   4\n",
       "7608               2                   0\n",
       "\n",
       "[7000 rows x 2 columns]"
      ]
     },
     "execution_count": 17,
     "metadata": {},
     "output_type": "execute_result"
    }
   ],
   "source": [
    "#Split Dataset\n",
    "X_train, X_test, y_train, y_test = train_test_split(X, y, test_size= 0.3, random_state= 40)\n",
    "y_train"
   ]
  },
  {
   "cell_type": "code",
   "execution_count": 18,
   "id": "6fd7bf5c",
   "metadata": {},
   "outputs": [],
   "source": [
    "#model Random Forest\n",
    "model_random_forest = RandomForestClassifier()\n",
    "model_random_forest.fit(X_train, y_train)\n",
    "y_predict = model_random_forest.predict(X_test)\n"
   ]
  },
  {
   "cell_type": "code",
   "execution_count": 19,
   "id": "fda28cc3",
   "metadata": {},
   "outputs": [
    {
     "name": "stdout",
     "output_type": "stream",
     "text": [
      "Accuracy untuk kondisi_encode: 0.9590\n",
      "Accuracy untuk Rekomendasi Encode: 0.9610\n",
      "Claasification Report\n",
      "kondisi_encode:\n",
      "               precision    recall  f1-score   support\n",
      "\n",
      "           0       0.95      0.96      0.96       984\n",
      "           1       0.97      0.95      0.96      1030\n",
      "           2       0.95      0.96      0.96       986\n",
      "\n",
      "    accuracy                           0.96      3000\n",
      "   macro avg       0.96      0.96      0.96      3000\n",
      "weighted avg       0.96      0.96      0.96      3000\n",
      "\n",
      "Claasification Report\n",
      "Rekomendasi Encode:\n",
      "               precision    recall  f1-score   support\n",
      "\n",
      "           0       0.96      0.97      0.97       536\n",
      "           1       0.95      0.94      0.95       354\n",
      "           2       0.94      0.93      0.94       266\n",
      "           3       0.97      0.96      0.96       731\n",
      "           4       0.97      0.98      0.97       712\n",
      "           5       0.96      0.96      0.96       401\n",
      "\n",
      "    accuracy                           0.96      3000\n",
      "   macro avg       0.96      0.96      0.96      3000\n",
      "weighted avg       0.96      0.96      0.96      3000\n",
      "\n"
     ]
    }
   ],
   "source": [
    "#Evaluasi Model\n",
    "for i, col in enumerate(y_test.columns):\n",
    "    acc = accuracy_score(y_test.iloc[:, i], y_predict[:, i])\n",
    "    print(f\"Accuracy untuk {col}: {acc:.4f}\")\n",
    "\n",
    "for i, col in enumerate(y_test.columns):\n",
    "    classic_report = classification_report(y_test.iloc[:, i], y_predict[:, i])\n",
    "    print(f\"Claasification Report\\n{col}:\\n {classic_report}\")"
   ]
  },
  {
   "cell_type": "code",
   "execution_count": 20,
   "id": "b83bc4cf",
   "metadata": {},
   "outputs": [
    {
     "data": {
      "text/plain": [
       "['model_random_forest.pkl']"
      ]
     },
     "execution_count": 20,
     "metadata": {},
     "output_type": "execute_result"
    }
   ],
   "source": [
    "#save model\n",
    "\n",
    "import joblib\n",
    "\n",
    "joblib.dump(model_random_forest, \"model_random_forest.pkl\")"
   ]
  },
  {
   "cell_type": "code",
   "execution_count": 21,
   "id": "f3ed5d11",
   "metadata": {},
   "outputs": [
    {
     "data": {
      "image/png": "[encoded data removed]",
      "text/plain": [
       "<Figure size 640x480 with 2 Axes>"
      ]
     },
     "metadata": {},
     "output_type": "display_data"
    },
    {
     "data": {
      "image/png": "[encoded data removed]",
      "text/plain": [
       "<Figure size 640x480 with 2 Axes>"
      ]
     },
     "metadata": {},
     "output_type": "display_data"
    }
   ],
   "source": [
    "import matplotlib.pyplot as plt\n",
    "from sklearn.metrics import confusion_matrix, ConfusionMatrixDisplay\n",
    "\n",
    "for i, col in enumerate(y_test.columns):\n",
    "    cm = confusion_matrix(y_test.iloc[:, i], y_predict[:, i])\n",
    "    disp = ConfusionMatrixDisplay(confusion_matrix=cm)\n",
    "    disp.plot(cmap=plt.cm.Blues)\n",
    "    plt.title(f'Confusion Matrix untuk {col}')\n",
    "    plt.show()\n"
   ]
  },
  {
   "cell_type": "markdown",
   "id": "ed1dd6c8",
   "metadata": {},
   "source": [
    "# **Pembuatan Model Decision Tree**"
   ]
  },
  {
   "cell_type": "code",
   "execution_count": 22,
   "id": "24ebb859",
   "metadata": {},
   "outputs": [
    {
     "data": {
      "text/plain": [
       "array([[0, 4],\n",
       "       [0, 4],\n",
       "       [2, 5],\n",
       "       ...,\n",
       "       [0, 4],\n",
       "       [0, 4],\n",
       "       [0, 4]])"
      ]
     },
     "execution_count": 22,
     "metadata": {},
     "output_type": "execute_result"
    }
   ],
   "source": [
    "decisiontree = DecisionTreeClassifier(criterion= 'entropy', random_state= 42)\n",
    "\n",
    "decisiontree.fit(X_train, y_train)\n",
    "y_predict = decisiontree.predict(X_test)\n",
    "y_predict\n"
   ]
  },
  {
   "cell_type": "code",
   "execution_count": 23,
   "id": "9d403722",
   "metadata": {},
   "outputs": [
    {
     "name": "stdout",
     "output_type": "stream",
     "text": [
      "Accuracy untuk kondisi_encode: 0.9530\n",
      "Accuracy untuk Rekomendasi Encode: 0.9530\n",
      "Claasification Report\n",
      "kondisi_encode:\n",
      "               precision    recall  f1-score   support\n",
      "\n",
      "           0       0.94      0.96      0.95       984\n",
      "           1       0.97      0.95      0.96      1030\n",
      "           2       0.95      0.94      0.95       986\n",
      "\n",
      "    accuracy                           0.95      3000\n",
      "   macro avg       0.95      0.95      0.95      3000\n",
      "weighted avg       0.95      0.95      0.95      3000\n",
      "\n",
      "Claasification Report\n",
      "Rekomendasi Encode:\n",
      "               precision    recall  f1-score   support\n",
      "\n",
      "           0       0.95      0.97      0.96       536\n",
      "           1       0.94      0.95      0.94       354\n",
      "           2       0.93      0.92      0.92       266\n",
      "           3       0.96      0.95      0.96       731\n",
      "           4       0.96      0.97      0.97       712\n",
      "           5       0.96      0.93      0.94       401\n",
      "\n",
      "    accuracy                           0.95      3000\n",
      "   macro avg       0.95      0.95      0.95      3000\n",
      "weighted avg       0.95      0.95      0.95      3000\n",
      "\n"
     ]
    }
   ],
   "source": [
    "#Evaluasi Model\n",
    "for i, col in enumerate(y_test.columns):\n",
    "    acc = accuracy_score(y_test.iloc[:, i], y_predict[:, i])\n",
    "    print(f\"Accuracy untuk {col}: {acc:.4f}\")\n",
    "\n",
    "for i, col in enumerate(y_test.columns):\n",
    "    classic_report = classification_report(y_test.iloc[:, i], y_predict[:, i])\n",
    "    print(f\"Claasification Report\\n{col}:\\n {classic_report}\")\n"
   ]
  },
  {
   "cell_type": "code",
   "execution_count": 24,
   "id": "0d9bb66d",
   "metadata": {},
   "outputs": [
    {
     "data": {
      "text/plain": [
       "['model_decisiontree.pkl']"
      ]
     },
     "execution_count": 24,
     "metadata": {},
     "output_type": "execute_result"
    }
   ],
   "source": [
    "#simpan model \n",
    "joblib.dump(decisiontree, \"model_decisiontree.pkl\")"
   ]
  },
  {
   "cell_type": "markdown",
   "id": "a36f04ff",
   "metadata": {},
   "source": [
    "# **Pembuatan Model ANN**"
   ]
  },
  {
   "cell_type": "code",
   "execution_count": 25,
   "id": "1567ed8a",
   "metadata": {},
   "outputs": [],
   "source": [
    "#inisialisasi output\n",
    "rekomendasi = y_train['Rekomendasi Encode']\n",
    "kondisi = y_train['kondisi_encode']"
   ]
  },
  {
   "cell_type": "code",
   "execution_count": 26,
   "id": "9a047a42",
   "metadata": {},
   "outputs": [],
   "source": [
    "#input layer (9 fitur)\n",
    "input_layer = Input(shape=(9, ))\n",
    "\n",
    "#hidden layer\n",
    "hidden_layer = Dense(64, activation='relu')(input_layer)\n",
    "hidden_layer= Dense(32, activation= 'relu')(hidden_layer)\n",
    "\n",
    "#output kondisi\n",
    "output_kondisi = Dense(3, activation= 'softmax', name= 'kondisi')(hidden_layer)\n",
    "\n",
    "#output rekomendsi\n",
    "output_rekomendasi = Dense(6, activation= 'softmax', name= 'rekomendasi')(hidden_layer)"
   ]
  },
  {
   "cell_type": "code",
   "execution_count": 27,
   "id": "65ecb303",
   "metadata": {},
   "outputs": [],
   "source": [
    "model_ANN = Model(inputs= input_layer, outputs=[output_kondisi, output_rekomendasi])\n",
    "model_ANN.compile(\n",
    "    optimizer='adam',\n",
    "    loss={\n",
    "        'kondisi': 'sparse_categorical_crossentropy',\n",
    "        'rekomendasi': 'sparse_categorical_crossentropy'\n",
    "    },\n",
    "    metrics= {\n",
    "    'kondisi': 'accuracy',\n",
    "    'rekomendasi': 'accuracy'\n",
    "    }\n",
    ")"
   ]
  },
  {
   "cell_type": "code",
   "execution_count": 28,
   "id": "1e54be69",
   "metadata": {},
   "outputs": [
    {
     "name": "stdout",
     "output_type": "stream",
     "text": [
      "Model: \"model\"\n",
      "__________________________________________________________________________________________________\n",
      " Layer (type)                   Output Shape         Param #     Connected to                     \n",
      "==================================================================================================\n",
      " input_1 (InputLayer)           [(None, 9)]          0           []                               \n",
      "                                                                                                  \n",
      " dense (Dense)                  (None, 64)           640         ['input_1[0][0]']                \n",
      "                                                                                                  \n",
      " dense_1 (Dense)                (None, 32)           2080        ['dense[0][0]']                  \n",
      "                                                                                                  \n",
      " kondisi (Dense)                (None, 3)            99          ['dense_1[0][0]']                \n",
      "                                                                                                  \n",
      " rekomendasi (Dense)            (None, 6)            198         ['dense_1[0][0]']                \n",
      "                                                                                                  \n",
      "==================================================================================================\n",
      "Total params: 3,017\n",
      "Trainable params: 3,017\n",
      "Non-trainable params: 0\n",
      "__________________________________________________________________________________________________\n"
     ]
    }
   ],
   "source": [
    "model_ANN.summary()\n"
   ]
  },
  {
   "cell_type": "code",
   "execution_count": 29,
   "id": "b5353b42",
   "metadata": {},
   "outputs": [
    {
     "name": "stdout",
     "output_type": "stream",
     "text": [
      "Epoch 1/50\n",
      "467/467 [==============================] - 6s 9ms/step - loss: 1.4647 - kondisi_loss: 0.4515 - rekomendasi_loss: 1.0133 - kondisi_accuracy: 0.8800 - rekomendasi_accuracy: 0.6227\n",
      "Epoch 2/50\n",
      "467/467 [==============================] - 4s 9ms/step - loss: 0.7561 - kondisi_loss: 0.2527 - rekomendasi_loss: 0.5034 - kondisi_accuracy: 0.9459 - rekomendasi_accuracy: 0.8799\n",
      "Epoch 3/50\n",
      "467/467 [==============================] - 4s 9ms/step - loss: 0.6704 - kondisi_loss: 0.2364 - rekomendasi_loss: 0.4339 - kondisi_accuracy: 0.9499 - rekomendasi_accuracy: 0.9091\n",
      "Epoch 4/50\n",
      "467/467 [==============================] - 5s 12ms/step - loss: 0.6410 - kondisi_loss: 0.2303 - rekomendasi_loss: 0.4107 - kondisi_accuracy: 0.9521 - rekomendasi_accuracy: 0.9179\n",
      "Epoch 5/50\n",
      "467/467 [==============================] - 8s 17ms/step - loss: 0.6224 - kondisi_loss: 0.2232 - rekomendasi_loss: 0.3992 - kondisi_accuracy: 0.9533 - rekomendasi_accuracy: 0.9210\n",
      "Epoch 6/50\n",
      "467/467 [==============================] - 8s 16ms/step - loss: 0.6055 - kondisi_loss: 0.2208 - rekomendasi_loss: 0.3847 - kondisi_accuracy: 0.9563 - rekomendasi_accuracy: 0.9263\n",
      "Epoch 7/50\n",
      "467/467 [==============================] - 7s 14ms/step - loss: 0.5915 - kondisi_loss: 0.2167 - rekomendasi_loss: 0.3748 - kondisi_accuracy: 0.9550 - rekomendasi_accuracy: 0.9276\n",
      "Epoch 8/50\n",
      "467/467 [==============================] - 4s 9ms/step - loss: 0.5749 - kondisi_loss: 0.2148 - rekomendasi_loss: 0.3601 - kondisi_accuracy: 0.9534 - rekomendasi_accuracy: 0.9313\n",
      "Epoch 9/50\n",
      "467/467 [==============================] - 4s 10ms/step - loss: 0.5590 - kondisi_loss: 0.2101 - rekomendasi_loss: 0.3489 - kondisi_accuracy: 0.9580 - rekomendasi_accuracy: 0.9316\n",
      "Epoch 10/50\n",
      "467/467 [==============================] - 6s 14ms/step - loss: 0.5496 - kondisi_loss: 0.2097 - rekomendasi_loss: 0.3399 - kondisi_accuracy: 0.9566 - rekomendasi_accuracy: 0.9333\n",
      "Epoch 11/50\n",
      "467/467 [==============================] - 7s 15ms/step - loss: 0.5366 - kondisi_loss: 0.2079 - rekomendasi_loss: 0.3287 - kondisi_accuracy: 0.9563 - rekomendasi_accuracy: 0.9384\n",
      "Epoch 12/50\n",
      "467/467 [==============================] - 7s 16ms/step - loss: 0.5289 - kondisi_loss: 0.2055 - rekomendasi_loss: 0.3233 - kondisi_accuracy: 0.9567 - rekomendasi_accuracy: 0.9367\n",
      "Epoch 13/50\n",
      "467/467 [==============================] - 8s 17ms/step - loss: 0.5172 - kondisi_loss: 0.2014 - rekomendasi_loss: 0.3157 - kondisi_accuracy: 0.9594 - rekomendasi_accuracy: 0.9357\n",
      "Epoch 14/50\n",
      "467/467 [==============================] - 6s 13ms/step - loss: 0.5085 - kondisi_loss: 0.2004 - rekomendasi_loss: 0.3081 - kondisi_accuracy: 0.9599 - rekomendasi_accuracy: 0.9417\n",
      "Epoch 15/50\n",
      "467/467 [==============================] - 5s 10ms/step - loss: 0.4997 - kondisi_loss: 0.1978 - rekomendasi_loss: 0.3020 - kondisi_accuracy: 0.9600 - rekomendasi_accuracy: 0.9434\n",
      "Epoch 16/50\n",
      "467/467 [==============================] - 5s 10ms/step - loss: 0.4930 - kondisi_loss: 0.1959 - rekomendasi_loss: 0.2970 - kondisi_accuracy: 0.9593 - rekomendasi_accuracy: 0.9449\n",
      "Epoch 17/50\n",
      "467/467 [==============================] - 5s 10ms/step - loss: 0.4858 - kondisi_loss: 0.1939 - rekomendasi_loss: 0.2919 - kondisi_accuracy: 0.9610 - rekomendasi_accuracy: 0.9424\n",
      "Epoch 18/50\n",
      "467/467 [==============================] - 7s 14ms/step - loss: 0.4806 - kondisi_loss: 0.1929 - rekomendasi_loss: 0.2878 - kondisi_accuracy: 0.9614 - rekomendasi_accuracy: 0.9407\n",
      "Epoch 19/50\n",
      "467/467 [==============================] - 639s 1s/step - loss: 0.4721 - kondisi_loss: 0.1907 - rekomendasi_loss: 0.2813 - kondisi_accuracy: 0.9611 - rekomendasi_accuracy: 0.9464\n",
      "Epoch 20/50\n",
      "467/467 [==============================] - 7s 14ms/step - loss: 0.4668 - kondisi_loss: 0.1891 - rekomendasi_loss: 0.2777 - kondisi_accuracy: 0.9630 - rekomendasi_accuracy: 0.9470\n",
      "Epoch 21/50\n",
      "467/467 [==============================] - 4s 8ms/step - loss: 0.4611 - kondisi_loss: 0.1875 - rekomendasi_loss: 0.2737 - kondisi_accuracy: 0.9630 - rekomendasi_accuracy: 0.9474\n",
      "Epoch 22/50\n",
      "467/467 [==============================] - 4s 9ms/step - loss: 0.4556 - kondisi_loss: 0.1855 - rekomendasi_loss: 0.2702 - kondisi_accuracy: 0.9641 - rekomendasi_accuracy: 0.9461\n",
      "Epoch 23/50\n",
      "467/467 [==============================] - 4s 9ms/step - loss: 0.4540 - kondisi_loss: 0.1850 - rekomendasi_loss: 0.2690 - kondisi_accuracy: 0.9634 - rekomendasi_accuracy: 0.9466\n",
      "Epoch 24/50\n",
      "467/467 [==============================] - 5s 10ms/step - loss: 0.4479 - kondisi_loss: 0.1830 - rekomendasi_loss: 0.2650 - kondisi_accuracy: 0.9636 - rekomendasi_accuracy: 0.9497\n",
      "Epoch 25/50\n",
      "467/467 [==============================] - 5s 10ms/step - loss: 0.4449 - kondisi_loss: 0.1823 - rekomendasi_loss: 0.2626 - kondisi_accuracy: 0.9639 - rekomendasi_accuracy: 0.9499\n",
      "Epoch 26/50\n",
      "467/467 [==============================] - 5s 10ms/step - loss: 0.4408 - kondisi_loss: 0.1812 - rekomendasi_loss: 0.2596 - kondisi_accuracy: 0.9634 - rekomendasi_accuracy: 0.9514\n",
      "Epoch 27/50\n",
      "467/467 [==============================] - 5s 10ms/step - loss: 0.4371 - kondisi_loss: 0.1793 - rekomendasi_loss: 0.2578 - kondisi_accuracy: 0.9650 - rekomendasi_accuracy: 0.9510\n",
      "Epoch 28/50\n",
      "467/467 [==============================] - 5s 11ms/step - loss: 0.4323 - kondisi_loss: 0.1772 - rekomendasi_loss: 0.2551 - kondisi_accuracy: 0.9664 - rekomendasi_accuracy: 0.9507\n",
      "Epoch 29/50\n",
      "467/467 [==============================] - 5s 11ms/step - loss: 0.4343 - kondisi_loss: 0.1784 - rekomendasi_loss: 0.2559 - kondisi_accuracy: 0.9639 - rekomendasi_accuracy: 0.9534\n",
      "Epoch 30/50\n",
      "467/467 [==============================] - 7s 14ms/step - loss: 0.4296 - kondisi_loss: 0.1770 - rekomendasi_loss: 0.2525 - kondisi_accuracy: 0.9647 - rekomendasi_accuracy: 0.9539\n",
      "Epoch 31/50\n",
      "467/467 [==============================] - 6s 14ms/step - loss: 0.4277 - kondisi_loss: 0.1771 - rekomendasi_loss: 0.2506 - kondisi_accuracy: 0.9647 - rekomendasi_accuracy: 0.9536\n",
      "Epoch 32/50\n",
      "467/467 [==============================] - 5s 11ms/step - loss: 0.4241 - kondisi_loss: 0.1748 - rekomendasi_loss: 0.2493 - kondisi_accuracy: 0.9659 - rekomendasi_accuracy: 0.9531\n",
      "Epoch 33/50\n",
      "467/467 [==============================] - 5s 10ms/step - loss: 0.4215 - kondisi_loss: 0.1738 - rekomendasi_loss: 0.2477 - kondisi_accuracy: 0.9667 - rekomendasi_accuracy: 0.9539\n",
      "Epoch 34/50\n",
      "467/467 [==============================] - 7s 14ms/step - loss: 0.4205 - kondisi_loss: 0.1732 - rekomendasi_loss: 0.2473 - kondisi_accuracy: 0.9676 - rekomendasi_accuracy: 0.9539\n",
      "Epoch 35/50\n",
      "467/467 [==============================] - 8s 17ms/step - loss: 0.4185 - kondisi_loss: 0.1729 - rekomendasi_loss: 0.2457 - kondisi_accuracy: 0.9657 - rekomendasi_accuracy: 0.9531\n",
      "Epoch 36/50\n",
      "467/467 [==============================] - 8s 17ms/step - loss: 0.4179 - kondisi_loss: 0.1728 - rekomendasi_loss: 0.2450 - kondisi_accuracy: 0.9659 - rekomendasi_accuracy: 0.9530\n",
      "Epoch 37/50\n",
      "467/467 [==============================] - 6s 12ms/step - loss: 0.4142 - kondisi_loss: 0.1713 - rekomendasi_loss: 0.2429 - kondisi_accuracy: 0.9659 - rekomendasi_accuracy: 0.9557\n",
      "Epoch 38/50\n",
      "467/467 [==============================] - 5s 11ms/step - loss: 0.4102 - kondisi_loss: 0.1699 - rekomendasi_loss: 0.2403 - kondisi_accuracy: 0.9666 - rekomendasi_accuracy: 0.9557\n",
      "Epoch 39/50\n",
      "467/467 [==============================] - 5s 11ms/step - loss: 0.4095 - kondisi_loss: 0.1688 - rekomendasi_loss: 0.2407 - kondisi_accuracy: 0.9666 - rekomendasi_accuracy: 0.9553\n",
      "Epoch 40/50\n",
      "467/467 [==============================] - 7s 14ms/step - loss: 0.4065 - kondisi_loss: 0.1679 - rekomendasi_loss: 0.2386 - kondisi_accuracy: 0.9687 - rekomendasi_accuracy: 0.9559\n",
      "Epoch 41/50\n",
      "467/467 [==============================] - 6s 14ms/step - loss: 0.4056 - kondisi_loss: 0.1678 - rekomendasi_loss: 0.2378 - kondisi_accuracy: 0.9671 - rekomendasi_accuracy: 0.9549\n",
      "Epoch 42/50\n",
      "467/467 [==============================] - 7s 16ms/step - loss: 0.4032 - kondisi_loss: 0.1660 - rekomendasi_loss: 0.2373 - kondisi_accuracy: 0.9679 - rekomendasi_accuracy: 0.9537\n",
      "Epoch 43/50\n",
      "467/467 [==============================] - 6s 14ms/step - loss: 0.4018 - kondisi_loss: 0.1650 - rekomendasi_loss: 0.2369 - kondisi_accuracy: 0.9676 - rekomendasi_accuracy: 0.9564\n",
      "Epoch 44/50\n",
      "467/467 [==============================] - 7s 14ms/step - loss: 0.3984 - kondisi_loss: 0.1638 - rekomendasi_loss: 0.2346 - kondisi_accuracy: 0.9684 - rekomendasi_accuracy: 0.9550\n",
      "Epoch 45/50\n",
      "467/467 [==============================] - 5s 11ms/step - loss: 0.3988 - kondisi_loss: 0.1650 - rekomendasi_loss: 0.2338 - kondisi_accuracy: 0.9677 - rekomendasi_accuracy: 0.9573\n",
      "Epoch 46/50\n",
      "467/467 [==============================] - 7s 15ms/step - loss: 0.3967 - kondisi_loss: 0.1639 - rekomendasi_loss: 0.2328 - kondisi_accuracy: 0.9680 - rekomendasi_accuracy: 0.9566\n",
      "Epoch 47/50\n",
      "467/467 [==============================] - 7s 15ms/step - loss: 0.3941 - kondisi_loss: 0.1623 - rekomendasi_loss: 0.2318 - kondisi_accuracy: 0.9680 - rekomendasi_accuracy: 0.9546\n",
      "Epoch 48/50\n",
      "467/467 [==============================] - 8s 17ms/step - loss: 0.3937 - kondisi_loss: 0.1615 - rekomendasi_loss: 0.2322 - kondisi_accuracy: 0.9690 - rekomendasi_accuracy: 0.9566\n",
      "Epoch 49/50\n",
      "467/467 [==============================] - 6s 12ms/step - loss: 0.3925 - kondisi_loss: 0.1626 - rekomendasi_loss: 0.2299 - kondisi_accuracy: 0.9667 - rekomendasi_accuracy: 0.9580\n",
      "Epoch 50/50\n",
      "467/467 [==============================] - 5s 12ms/step - loss: 0.3901 - kondisi_loss: 0.1605 - rekomendasi_loss: 0.2296 - kondisi_accuracy: 0.9687 - rekomendasi_accuracy: 0.9569\n"
     ]
    }
   ],
   "source": [
    "history = model_ANN.fit(X_train,{\n",
    "    'kondisi': y_train['kondisi_encode'],\n",
    "    'rekomendasi': y_train['Rekomendasi Encode']\n",
    "},epochs= 50, batch_size= 15)"
   ]
  },
  {
   "cell_type": "code",
   "execution_count": 30,
   "id": "f62fcd19",
   "metadata": {},
   "outputs": [
    {
     "name": "stdout",
     "output_type": "stream",
     "text": [
      "94/94 [==============================] - 1s 12ms/step - loss: 0.4181 - kondisi_loss: 0.1707 - rekomendasi_loss: 0.2474 - kondisi_accuracy: 0.9680 - rekomendasi_accuracy: 0.9510\n"
     ]
    },
    {
     "data": {
      "text/plain": [
       "[0.418113648891449,\n",
       " 0.17070719599723816,\n",
       " 0.24740636348724365,\n",
       " 0.9679999947547913,\n",
       " 0.9509999752044678]"
      ]
     },
     "execution_count": 30,
     "metadata": {},
     "output_type": "execute_result"
    }
   ],
   "source": [
    "model_ANN.evaluate(X_test, {'kondisi': y_test['kondisi_encode'], 'rekomendasi': y_test['Rekomendasi Encode']})\n"
   ]
  },
  {
   "cell_type": "code",
   "execution_count": 31,
   "id": "c1dd1e45",
   "metadata": {},
   "outputs": [
    {
     "data": {
      "image/png": "[encoded data removed]",
      "text/plain": [
       "<Figure size 640x480 with 1 Axes>"
      ]
     },
     "metadata": {},
     "output_type": "display_data"
    }
   ],
   "source": [
    "# Loss\n",
    "plt.plot(figsize= (8,13))\n",
    "plt.plot(history.history['kondisi_loss'], label='Kondisi Loss')\n",
    "plt.plot(history.history['rekomendasi_loss'], label='Rekomendasi Loss')\n",
    "plt.xlabel('Epoch')\n",
    "plt.ylabel('Loss')\n",
    "plt.title('Loss per Output')\n",
    "plt.legend()\n",
    "plt.show()"
   ]
  },
  {
   "cell_type": "code",
   "execution_count": 32,
   "id": "66cbf435",
   "metadata": {},
   "outputs": [
    {
     "data": {
      "image/png": "[encoded data removed]",
      "text/plain": [
       "<Figure size 640x480 with 1 Axes>"
      ]
     },
     "metadata": {},
     "output_type": "display_data"
    }
   ],
   "source": [
    "\n",
    "# Accuracy\n",
    "plt.plot(figsize= (8, 13))\n",
    "plt.plot(history.history['kondisi_accuracy'], label='Kondisi Accuracy')\n",
    "plt.plot(history.history['rekomendasi_accuracy'], label='Rekomendasi Accuracy')\n",
    "plt.xlabel('Epoch')\n",
    "plt.ylabel('Accuracy')\n",
    "plt.title('Accuracy per Output')\n",
    "plt.legend()\n",
    "plt.show()"
   ]
  },
  {
   "cell_type": "code",
   "execution_count": 33,
   "id": "6121a6e4",
   "metadata": {},
   "outputs": [
    {
     "name": "stdout",
     "output_type": "stream",
     "text": [
      "INFO:tensorflow:Assets written to: model_ann\\assets\n"
     ]
    }
   ],
   "source": [
    "model_ANN.save(\"model_ann\")"
   ]
  },
  {
   "cell_type": "code",
   "execution_count": 34,
   "id": "3d6501e2",
   "metadata": {},
   "outputs": [
    {
     "name": "stdout",
     "output_type": "stream",
     "text": [
      "Model: \"model\"\n",
      "__________________________________________________________________________________________________\n",
      " Layer (type)                   Output Shape         Param #     Connected to                     \n",
      "==================================================================================================\n",
      " input_1 (InputLayer)           [(None, 9)]          0           []                               \n",
      "                                                                                                  \n",
      " dense (Dense)                  (None, 64)           640         ['input_1[0][0]']                \n",
      "                                                                                                  \n",
      " dense_1 (Dense)                (None, 32)           2080        ['dense[0][0]']                  \n",
      "                                                                                                  \n",
      " kondisi (Dense)                (None, 3)            99          ['dense_1[0][0]']                \n",
      "                                                                                                  \n",
      " rekomendasi (Dense)            (None, 6)            198         ['dense_1[0][0]']                \n",
      "                                                                                                  \n",
      "==================================================================================================\n",
      "Total params: 3,017\n",
      "Trainable params: 3,017\n",
      "Non-trainable params: 0\n",
      "__________________________________________________________________________________________________\n"
     ]
    }
   ],
   "source": [
    "loaded_model = tf.keras.models.load_model(\"./model_ann\")\n",
    "loaded_model.summary()\n"
   ]
  },
  {
   "cell_type": "code",
   "execution_count": 35,
   "id": "8ecc00f2",
   "metadata": {},
   "outputs": [
    {
     "name": "stderr",
     "output_type": "stream",
     "text": [
      "WARNING: Package(s) not found: tensorflow\n"
     ]
    }
   ],
   "source": [
    "!pip show tensorflow"
   ]
  }
 ],
 "metadata": {
  "kernelspec": {
   "display_name": "Python 3",
   "language": "python",
   "name": "python3"
  },
  "language_info": {
   "codemirror_mode": {
    "name": "ipython",
    "version": 3
   },
   "file_extension": ".py",
   "mimetype": "text/x-python",
   "name": "python",
   "nbconvert_exporter": "python",
   "pygments_lexer": "ipython3",
   "version": "3.10.0"
  }
 },
 "nbformat": 4,
 "nbformat_minor": 5
}
